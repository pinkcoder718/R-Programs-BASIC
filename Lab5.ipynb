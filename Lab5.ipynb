{
 "cells": [
  {
   "cell_type": "markdown",
   "metadata": {},
   "source": [
    "Myil Vaughanan V L<br>\n",
    "19BTRCR007"
   ]
  },
  {
   "cell_type": "markdown",
   "metadata": {},
   "source": [
    "## <center>LAB PROGRAM 5"
   ]
  },
  {
   "cell_type": "markdown",
   "metadata": {},
   "source": [
    "<b>1.\tAssume 4- binary digit accuracy for the following computations. <br>\n",
    "a)\tWrite out the binary representation for the approximate value of 6/7. <br>\n",
    "b)\tWrite out the binary representation for the approximate value of 1/7. <br>\n",
    "c)\tAdd the two binary representations obtained above, and convert back to the decimal representation. <br>\n",
    "d)\tCompare the result of part (c) with the result from adding the binary representations of 6 and 1, followed by division by the binary representation of 7.\n",
    "</b>"
   ]
  },
  {
   "cell_type": "markdown",
   "metadata": {},
   "source": [
    "install.packages(\"R.utils\")"
   ]
  },
  {
   "cell_type": "code",
   "execution_count": 63,
   "metadata": {},
   "outputs": [],
   "source": [
    "library(R.utils)\n",
    "#install.packages(\"stringr\")\n",
    "# library(stringr)"
   ]
  },
  {
   "cell_type": "code",
   "execution_count": 74,
   "metadata": {},
   "outputs": [
    {
     "data": {
      "text/html": [
       "'0.1101101101101101101101101101101'"
      ],
      "text/latex": [
       "'0.1101101101101101101101101101101'"
      ],
      "text/markdown": [
       "'0.1101101101101101101101101101101'"
      ],
      "text/plain": [
       "[1] \"0.1101101101101101101101101101101\""
      ]
     },
     "metadata": {},
     "output_type": "display_data"
    }
   ],
   "source": [
    "a <- 6/7\n",
    "float2Bin<- function(x)\n",
    "{\n",
    "  int_part<- floor(x)\n",
    "  dec_part<- x-int_part\n",
    "  int2bin<- intToBin(int_part)\n",
    "  dec2bin<- str_pad(intToBin(dec_part*2^31),31,pad='0') #O.o\n",
    "  paste0(int2bin,\".\",dec2bin)\n",
    "}\n",
    "float2Bin(a)"
   ]
  },
  {
   "cell_type": "code",
   "execution_count": 75,
   "metadata": {},
   "outputs": [
    {
     "data": {
      "text/html": [
       "'0.0010010010010010010010010010010'"
      ],
      "text/latex": [
       "'0.0010010010010010010010010010010'"
      ],
      "text/markdown": [
       "'0.0010010010010010010010010010010'"
      ],
      "text/plain": [
       "[1] \"0.0010010010010010010010010010010\""
      ]
     },
     "metadata": {},
     "output_type": "display_data"
    }
   ],
   "source": [
    "b<- 1/7\n",
    "float2Bin(b)"
   ]
  },
  {
   "cell_type": "code",
   "execution_count": 79,
   "metadata": {},
   "outputs": [
    {
     "data": {
      "text/html": [
       "1"
      ],
      "text/latex": [
       "1"
      ],
      "text/markdown": [
       "1"
      ],
      "text/plain": [
       "[1] 1"
      ]
     },
     "metadata": {},
     "output_type": "display_data"
    }
   ],
   "source": [
    "sum = a + b\n",
    "answer <- as.binary(sum)\n",
    "answer"
   ]
  },
  {
   "cell_type": "code",
   "execution_count": 127,
   "metadata": {},
   "outputs": [
    {
     "data": {
      "text/html": [
       "1"
      ],
      "text/latex": [
       "1"
      ],
      "text/markdown": [
       "1"
      ],
      "text/plain": [
       "[1] 1"
      ]
     },
     "metadata": {},
     "output_type": "display_data"
    },
    {
     "data": {
      "text/html": [
       "<style>\n",
       ".list-inline {list-style: none; margin:0; padding: 0}\n",
       ".list-inline>li {display: inline-block}\n",
       ".list-inline>li:not(:last-child)::after {content: \"\\00b7\"; padding: 0 .5ex}\n",
       "</style>\n",
       "<ol class=list-inline><li>1</li><li>1</li><li>1</li></ol>\n"
      ],
      "text/latex": [
       "\\begin{enumerate*}\n",
       "\\item 1\n",
       "\\item 1\n",
       "\\item 1\n",
       "\\end{enumerate*}\n"
      ],
      "text/markdown": [
       "1. 1\n",
       "2. 1\n",
       "3. 1\n",
       "\n",
       "\n"
      ],
      "text/plain": [
       "[1] 1 1 1"
      ]
     },
     "metadata": {},
     "output_type": "display_data"
    }
   ],
   "source": [
    "new_a <- as.binary(6)\n",
    "new_b <- as.binary(1)\n",
    "new_sum <- new_a + new_b\n",
    "\n",
    "# Just comparing the answer in (c) with the binary sum of 6 + 1\n",
    "answer   # previous answer\n",
    "new_sum  # binary sum of 6 and 1"
   ]
  },
  {
   "cell_type": "code",
   "execution_count": 134,
   "metadata": {},
   "outputs": [
    {
     "data": {
      "text/html": [
       "1"
      ],
      "text/latex": [
       "1"
      ],
      "text/markdown": [
       "1"
      ],
      "text/plain": [
       "[1] 1"
      ]
     },
     "metadata": {},
     "output_type": "display_data"
    }
   ],
   "source": [
    "# followed by division of binary number of 7\n",
    "divided_new_sum = as.integer(new_sum) / 7\n",
    "as.binary(divided_new_sum)"
   ]
  },
  {
   "cell_type": "markdown",
   "metadata": {},
   "source": [
    "<b>2.\tIn R, evaluate the expressions\t<br>\n",
    "2^52 + k – 2^52 <br>\n",
    "2^53 + k – 2^53 <br>\n",
    "2^54 + k – 2^54, <br>\n",
    "for the cases where k = 1, 2, 3, 4. Explain what you observe. What could be done to obtain results in R which are mathematically correct?\n",
    "</b>"
   ]
  },
  {
   "cell_type": "markdown",
   "metadata": {},
   "source": [
    "<u>Answer</u> We can make use of functions"
   ]
  },
  {
   "cell_type": "code",
   "execution_count": 164,
   "metadata": {},
   "outputs": [
    {
     "name": "stdout",
     "output_type": "stream",
     "text": [
      "[1] 1 2 3 4\n",
      "[1] 0 2 4 4\n",
      "[1] 0 0 4 4\n"
     ]
    }
   ],
   "source": [
    "# before getting correctly\n",
    "func <- function(k){\n",
    "print(2^52 + k - 2^52)\n",
    "print((2^53) + k - (2^53))\n",
    "print(2^54 + k - 2^54)\n",
    "}\n",
    "\n",
    "func(c(1,2,3,4))"
   ]
  },
  {
   "cell_type": "markdown",
   "metadata": {},
   "source": [
    "install.packages('bit64')"
   ]
  },
  {
   "cell_type": "markdown",
   "metadata": {},
   "source": [
    "library(bit64)"
   ]
  },
  {
   "cell_type": "code",
   "execution_count": 39,
   "metadata": {},
   "outputs": [
    {
     "name": "stdout",
     "output_type": "stream",
     "text": [
      "integer64\n",
      "[1] 1 2 3 4\n",
      "integer64\n",
      "[1] 1 2 3 4\n",
      "integer64\n",
      "[1] 1 2 3 4\n"
     ]
    }
   ],
   "source": [
    "# after manipualting to integer64\n",
    "a <- as.integer64(2**52)\n",
    "func <- function(k){\n",
    "print(a + k - a)\n",
    "print(a*2 + k - a*2)\n",
    "print(a*4 + k - a*4)\n",
    "}\n",
    "\n",
    "func(c(1,2,3,4))"
   ]
  },
  {
   "cell_type": "markdown",
   "metadata": {},
   "source": [
    "<b>3.\tThe following are a sample of observations on incoming solar radiation at a greenhouse: <br>\n",
    "11.1 10.6 6.3 8.8 10.7 11.2 8.9 12.2 <br>\n",
    "a)\tAssign the data to an object called solar.radiation. <br>\n",
    "b)\tFind the mean, median, range, and variance of the radiation observations. <br>\n",
    "c)\tAdd 10 to each observation of solar.radiation, and assign the result to sr10. Find the mean, median, range, and variance of sr10. Which statistics change, and by how much?<br>\n",
    "d)\tPlot a histogram of the solar.radiation, sr10.\n",
    "</b>"
   ]
  },
  {
   "cell_type": "code",
   "execution_count": 90,
   "metadata": {},
   "outputs": [
    {
     "data": {
      "text/html": [
       "<style>\n",
       ".list-inline {list-style: none; margin:0; padding: 0}\n",
       ".list-inline>li {display: inline-block}\n",
       ".list-inline>li:not(:last-child)::after {content: \"\\00b7\"; padding: 0 .5ex}\n",
       "</style>\n",
       "<ol class=list-inline><li>11.1</li><li>10.6</li><li>6.3</li><li>8.8</li><li>10.7</li><li>11.2</li><li>8.9</li><li>12.2</li></ol>\n"
      ],
      "text/latex": [
       "\\begin{enumerate*}\n",
       "\\item 11.1\n",
       "\\item 10.6\n",
       "\\item 6.3\n",
       "\\item 8.8\n",
       "\\item 10.7\n",
       "\\item 11.2\n",
       "\\item 8.9\n",
       "\\item 12.2\n",
       "\\end{enumerate*}\n"
      ],
      "text/markdown": [
       "1. 11.1\n",
       "2. 10.6\n",
       "3. 6.3\n",
       "4. 8.8\n",
       "5. 10.7\n",
       "6. 11.2\n",
       "7. 8.9\n",
       "8. 12.2\n",
       "\n",
       "\n"
      ],
      "text/plain": [
       "[1] 11.1 10.6  6.3  8.8 10.7 11.2  8.9 12.2"
      ]
     },
     "metadata": {},
     "output_type": "display_data"
    }
   ],
   "source": [
    "solar.radiation <- c(11.1,10.6, 6.3, 8.8, 10.7, 11.2, 8.9, 12.2)\n",
    "solar.radiation"
   ]
  },
  {
   "cell_type": "code",
   "execution_count": 94,
   "metadata": {},
   "outputs": [
    {
     "name": "stdout",
     "output_type": "stream",
     "text": [
      "Mean: 9.975\n",
      "Median: 10.65\n",
      "Range: 6.3 12.2\n",
      "Variance: 3.525"
     ]
    }
   ],
   "source": [
    "cat(\"Mean:\", mean(solar.radiation))\n",
    "cat(\"\\nMedian:\", median(solar.radiation))\n",
    "cat(\"\\nRange:\", range(solar.radiation))\n",
    "cat(\"\\nVariance:\", var(solar.radiation))"
   ]
  },
  {
   "cell_type": "code",
   "execution_count": 96,
   "metadata": {},
   "outputs": [
    {
     "data": {
      "text/html": [
       "<style>\n",
       ".list-inline {list-style: none; margin:0; padding: 0}\n",
       ".list-inline>li {display: inline-block}\n",
       ".list-inline>li:not(:last-child)::after {content: \"\\00b7\"; padding: 0 .5ex}\n",
       "</style>\n",
       "<ol class=list-inline><li>21.1</li><li>20.6</li><li>16.3</li><li>18.8</li><li>20.7</li><li>21.2</li><li>18.9</li><li>22.2</li></ol>\n"
      ],
      "text/latex": [
       "\\begin{enumerate*}\n",
       "\\item 21.1\n",
       "\\item 20.6\n",
       "\\item 16.3\n",
       "\\item 18.8\n",
       "\\item 20.7\n",
       "\\item 21.2\n",
       "\\item 18.9\n",
       "\\item 22.2\n",
       "\\end{enumerate*}\n"
      ],
      "text/markdown": [
       "1. 21.1\n",
       "2. 20.6\n",
       "3. 16.3\n",
       "4. 18.8\n",
       "5. 20.7\n",
       "6. 21.2\n",
       "7. 18.9\n",
       "8. 22.2\n",
       "\n",
       "\n"
      ],
      "text/plain": [
       "[1] 21.1 20.6 16.3 18.8 20.7 21.2 18.9 22.2"
      ]
     },
     "metadata": {},
     "output_type": "display_data"
    }
   ],
   "source": [
    "# added 10 to each element\n",
    "sr10 <- solar.radiation + 10\n",
    "sr10"
   ]
  },
  {
   "cell_type": "code",
   "execution_count": 97,
   "metadata": {
    "scrolled": true
   },
   "outputs": [
    {
     "name": "stdout",
     "output_type": "stream",
     "text": [
      "Mean: 19.975\n",
      "Median: 20.65\n",
      "Range: 16.3 22.2\n",
      "Variance: 3.525"
     ]
    }
   ],
   "source": [
    "cat(\"Mean:\", mean(sr10))\n",
    "cat(\"\\nMedian:\", median(sr10))\n",
    "cat(\"\\nRange:\", range(sr10))\n",
    "cat(\"\\nVariance:\", var(sr10))"
   ]
  },
  {
   "cell_type": "markdown",
   "metadata": {},
   "source": [
    "<u>Answer:-</u> \n",
    "* Statistics of mean, median and range have changed and the variance value hasn't changed\n",
    "* Mean, median and range have changed by +10"
   ]
  },
  {
   "cell_type": "code",
   "execution_count": 100,
   "metadata": {},
   "outputs": [
    {
     "data": {
      "image/png": "[encoded data removed]",
      "text/plain": [
       "Plot with title “Histogram of solar.radiation”"
      ]
     },
     "metadata": {
      "image/png": {
       "height": 420,
       "width": 420
      },
      "text/plain": {
       "height": 420,
       "width": 420
      }
     },
     "output_type": "display_data"
    }
   ],
   "source": [
    "hist(solar.radiation, col ='cyan')"
   ]
  },
  {
   "cell_type": "code",
   "execution_count": 102,
   "metadata": {},
   "outputs": [
    {
     "data": {
      "image/png": "[encoded data removed]",
      "text/plain": [
       "Plot with title “Histogram of sr10”"
      ]
     },
     "metadata": {
      "image/png": {
       "height": 420,
       "width": 420
      },
      "text/plain": {
       "height": 420,
       "width": 420
      }
     },
     "output_type": "display_data"
    }
   ],
   "source": [
    "hist(sr10,col = 'light green')"
   ]
  },
  {
   "cell_type": "markdown",
   "metadata": {},
   "source": [
    "#### 4.\tVenn diagrams can be used to illustrate set unions and intersections. Draw Venn diagrams that correspond to and, or, not, and xor operations."
   ]
  },
  {
   "cell_type": "markdown",
   "metadata": {},
   "source": [
    "install.packages(\"BiocManager\")\n",
    "\n",
    "BiocManager::install(\"limma\")"
   ]
  },
  {
   "cell_type": "markdown",
   "metadata": {},
   "source": [
    "library(limma)"
   ]
  },
  {
   "cell_type": "code",
   "execution_count": 106,
   "metadata": {},
   "outputs": [],
   "source": [
    "hsb2 <- read.csv(\"https://stats.idre.ucla.edu/wp-content/uploads/2016/02/hsb2-3.csv\") \n",
    "attach(hsb2)\n",
    "hw <- (write >= 60)\n",
    "hm <- (math >= 60)\n",
    "hr <- (read >= 60)\n",
    "c3 <- cbind(hw, hm, hr)"
   ]
  },
  {
   "cell_type": "code",
   "execution_count": 108,
   "metadata": {},
   "outputs": [
    {
     "data": {
      "image/png": "[encoded data removed]",
      "text/plain": [
       "plot without title"
      ]
     },
     "metadata": {
      "image/png": {
       "height": 420,
       "width": 420
      },
      "text/plain": {
       "height": 420,
       "width": 420
      }
     },
     "output_type": "display_data"
    }
   ],
   "source": [
    "a <- vennCounts(c3)\n",
    "vennDiagram(a)"
   ]
  },
  {
   "cell_type": "markdown",
   "metadata": {},
   "source": [
    "<b>5.\tConsider the built-in data frame cars.\n",
    "\n",
    "a)\tConsult the help page to determine the number of observations in the dataset as well as the number of variables. Also, what are the names of the variables?\n",
    "\n",
    "b)\tFind the mean stopping distance for all observations for which the speed was 20 miles per hour.\n",
    "    \n",
    "c)\tConstruct a scatterplot relating stopping distance to speed. What kind of relationship do you observe?\n",
    "</b>"
   ]
  },
  {
   "cell_type": "code",
   "execution_count": 190,
   "metadata": {},
   "outputs": [
    {
     "data": {
      "text/html": [
       "<table class=\"dataframe\">\n",
       "<caption>A data.frame: 6 × 2</caption>\n",
       "<thead>\n",
       "\t<tr><th></th><th scope=col>speed</th><th scope=col>dist</th></tr>\n",
       "\t<tr><th></th><th scope=col>&lt;dbl&gt;</th><th scope=col>&lt;dbl&gt;</th></tr>\n",
       "</thead>\n",
       "<tbody>\n",
       "\t<tr><th scope=row>1</th><td>4</td><td> 2</td></tr>\n",
       "\t<tr><th scope=row>2</th><td>4</td><td>10</td></tr>\n",
       "\t<tr><th scope=row>3</th><td>7</td><td> 4</td></tr>\n",
       "\t<tr><th scope=row>4</th><td>7</td><td>22</td></tr>\n",
       "\t<tr><th scope=row>5</th><td>8</td><td>16</td></tr>\n",
       "\t<tr><th scope=row>6</th><td>9</td><td>10</td></tr>\n",
       "</tbody>\n",
       "</table>\n"
      ],
      "text/latex": [
       "A data.frame: 6 × 2\n",
       "\\begin{tabular}{r|ll}\n",
       "  & speed & dist\\\\\n",
       "  & <dbl> & <dbl>\\\\\n",
       "\\hline\n",
       "\t1 & 4 &  2\\\\\n",
       "\t2 & 4 & 10\\\\\n",
       "\t3 & 7 &  4\\\\\n",
       "\t4 & 7 & 22\\\\\n",
       "\t5 & 8 & 16\\\\\n",
       "\t6 & 9 & 10\\\\\n",
       "\\end{tabular}\n"
      ],
      "text/markdown": [
       "\n",
       "A data.frame: 6 × 2\n",
       "\n",
       "| <!--/--> | speed &lt;dbl&gt; | dist &lt;dbl&gt; |\n",
       "|---|---|---|\n",
       "| 1 | 4 |  2 |\n",
       "| 2 | 4 | 10 |\n",
       "| 3 | 7 |  4 |\n",
       "| 4 | 7 | 22 |\n",
       "| 5 | 8 | 16 |\n",
       "| 6 | 9 | 10 |\n",
       "\n"
      ],
      "text/plain": [
       "  speed dist\n",
       "1 4      2  \n",
       "2 4     10  \n",
       "3 7      4  \n",
       "4 7     22  \n",
       "5 8     16  \n",
       "6 9     10  "
      ]
     },
     "metadata": {},
     "output_type": "display_data"
    }
   ],
   "source": [
    "df <- datasets::cars\n",
    "head(df)"
   ]
  },
  {
   "cell_type": "code",
   "execution_count": 166,
   "metadata": {},
   "outputs": [
    {
     "data": {
      "text/html": [
       "50"
      ],
      "text/latex": [
       "50"
      ],
      "text/markdown": [
       "50"
      ],
      "text/plain": [
       "[1] 50"
      ]
     },
     "metadata": {},
     "output_type": "display_data"
    }
   ],
   "source": [
    "# we can use dim() or nrow() to find the number of observations \n",
    "nrow(df)  # here we have 50 observations in this dataframe"
   ]
  },
  {
   "cell_type": "code",
   "execution_count": 172,
   "metadata": {},
   "outputs": [
    {
     "data": {
      "text/html": [
       "<style>\n",
       ".list-inline {list-style: none; margin:0; padding: 0}\n",
       ".list-inline>li {display: inline-block}\n",
       ".list-inline>li:not(:last-child)::after {content: \"\\00b7\"; padding: 0 .5ex}\n",
       "</style>\n",
       "<ol class=list-inline><li>'speed'</li><li>'dist'</li></ol>\n"
      ],
      "text/latex": [
       "\\begin{enumerate*}\n",
       "\\item 'speed'\n",
       "\\item 'dist'\n",
       "\\end{enumerate*}\n"
      ],
      "text/markdown": [
       "1. 'speed'\n",
       "2. 'dist'\n",
       "\n",
       "\n"
      ],
      "text/plain": [
       "[1] \"speed\" \"dist\" "
      ]
     },
     "metadata": {},
     "output_type": "display_data"
    }
   ],
   "source": [
    "# finding the names of the column\n",
    "colnames(df)"
   ]
  },
  {
   "cell_type": "code",
   "execution_count": 183,
   "metadata": {},
   "outputs": [
    {
     "name": "stdout",
     "output_type": "stream",
     "text": [
      " [1] 20 20 20 20 20 32 48 52 56 64\n"
     ]
    }
   ],
   "source": [
    "new_df <- df[df['speed'] == 20]\n",
    "print(new_df)"
   ]
  },
  {
   "cell_type": "code",
   "execution_count": 184,
   "metadata": {},
   "outputs": [
    {
     "data": {
      "text/html": [
       "35.2"
      ],
      "text/latex": [
       "35.2"
      ],
      "text/markdown": [
       "35.2"
      ],
      "text/plain": [
       "[1] 35.2"
      ]
     },
     "metadata": {},
     "output_type": "display_data"
    }
   ],
   "source": [
    "mean(new_df)  # mean stopping distance when speed is equal to 20"
   ]
  },
  {
   "cell_type": "code",
   "execution_count": 193,
   "metadata": {},
   "outputs": [
    {
     "data": {
      "image/png": "[encoded data removed]",
      "text/plain": [
       "plot without title"
      ]
     },
     "metadata": {
      "image/png": {
       "height": 420,
       "width": 420
      },
      "text/plain": {
       "height": 420,
       "width": 420
      }
     },
     "output_type": "display_data"
    }
   ],
   "source": [
    "plot(df$speed, df$dist, col='red')"
   ]
  },
  {
   "cell_type": "markdown",
   "metadata": {},
   "source": [
    "<i>Conclusions that can be made from the plot:</i>\n",
    "* We observe that there is a linear realtionship between speed and stopping distance"
   ]
  }
 ],
 "metadata": {
  "kernelspec": {
   "display_name": "R",
   "language": "R",
   "name": "ir"
  },
  "language_info": {
   "codemirror_mode": "r",
   "file_extension": ".r",
   "mimetype": "text/x-r-source",
   "name": "R",
   "pygments_lexer": "r",
   "version": "3.6.3"
  }
 },
 "nbformat": 4,
 "nbformat_minor": 5
}
